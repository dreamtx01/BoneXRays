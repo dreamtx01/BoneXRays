{
 "cells": [
  {
   "cell_type": "markdown",
   "metadata": {},
   "source": [
    "## LOAD LIBRARIES\n",
    "Four machine learning models were used to model X-rays of upper extremities of the human body. The upper extremities being modeled were the Hand, Wrist, Forearm, Humerus, Elbow,Shoulder and Finger. The first step in the machine learning model was to load libraries which would be used for the machine learning."
   ]
  },
  {
   "cell_type": "code",
   "execution_count": 1,
   "metadata": {},
   "outputs": [
    {
     "name": "stderr",
     "output_type": "stream",
     "text": [
      "/Users/adejuwon/opt/anaconda3/lib/python3.7/site-packages/statsmodels/tools/_testing.py:19: FutureWarning: pandas.util.testing is deprecated. Use the functions in the public API at pandas.testing instead.\n",
      "  import pandas.util.testing as tm\n"
     ]
    }
   ],
   "source": [
    "import tensorflow as tf\n",
    "tf.__version__\n",
    "import numpy as np \n",
    "import collections\n",
    "from collections import defaultdict\n",
    "import pandas as pd \n",
    "import matplotlib.pyplot as plt\n",
    "from pathlib import Path\n",
    "from glob import glob\n",
    "from skimage.io import imread\n",
    "import seaborn as sns\n",
    "from sklearn.metrics import f1_score,confusion_matrix,classification_report,accuracy_score\n",
    "from sklearn.linear_model import LogisticRegression\n",
    "from sklearn.neighbors import KNeighborsClassifier\n",
    "from sklearn.ensemble import RandomForestClassifier\n",
    "from sklearn.datasets import make_classification\n",
    "from sklearn import svm\n",
    "from sklearn.svm import SVC\n",
    "import matplotlib.image as mpimg\n",
    "import numpy as np\n",
    "import os\n",
    "import cv2\n",
    "from sklearn.pipeline import make_pipeline\n",
    "from sklearn.model_selection import GridSearchCV\n",
    "import warnings\n",
    "\n",
    "# Remove warnings\n",
    "warnings.filterwarnings(\"ignore\")\n",
    "\n",
    "%matplotlib inline"
   ]
  },
  {
   "cell_type": "markdown",
   "metadata": {},
   "source": [
    "## Loading Dataset\n",
    "Dataset supplied by Stanford was loaded from different folders.\n",
    "The folders are:\n",
    "\n",
    "1. TrainSplit: ( Training and validation data)\n",
    "2. Region:The upper extremity part of the body. These are the seven in number : Hand, Forearm, Wrist, Shoulder, Elbow, Humerus, Finger\n",
    "3. Patient: The patient information\n",
    "4. FolderID:patientID\n",
    "5. Study: Abnormal and abnormal\n",
    "6. Classes: Images in png format\n",
    "\n",
    "\n",
    "\n",
    "The link to the original dataset is https://stanfordmlgroup.github.io/competitions/mura/"
   ]
  },
  {
   "cell_type": "code",
   "execution_count": 2,
   "metadata": {},
   "outputs": [],
   "source": [
    "all_scans_df = pd.DataFrame(dict(path = glob(os.path.join('MURA-v1.1', '*', '*', '*', '*', '*.png'))))\n",
    "all_scans_df['TrainSplit'] = all_scans_df['path'].map(lambda x: x.split('/')[-5])\n",
    "all_scans_df['Region'] = all_scans_df['path'].map(lambda x: x.split('/')[2])\n",
    "all_scans_df['Patient'] = all_scans_df['path'].map(lambda x: x.split('/')[-3])\n",
    "all_scans_df['FolderId'] = all_scans_df['path'].map(lambda x: x.split('/')[-2])\n",
    "all_scans_df['Study'] = all_scans_df['FolderId'].map(lambda x: x.split('_')[0])\n",
    "all_scans_df['classes'] = all_scans_df['FolderId'].map(lambda x: x.split('_')[-1] )\n"
   ]
  },
  {
   "cell_type": "code",
   "execution_count": 3,
   "metadata": {},
   "outputs": [],
   "source": [
    "path = glob(os.path.join('MURA-v1.1', '*', '*', '*', '*', '*.png')) #location all png file in harddrive\n"
   ]
  },
  {
   "cell_type": "markdown",
   "metadata": {},
   "source": [
    "## Conversion of Dataset to arrays\n",
    "loaded dataset from the stanford library is converted to array's for easy processing. The folder paths in csv format are the training and the validation inputs and labels."
   ]
  },
  {
   "cell_type": "code",
   "execution_count": 4,
   "metadata": {},
   "outputs": [],
   "source": [
    "def load_dataset(csv_path):\n",
    "    \"\"\"\n",
    "    Args:\n",
    "        train_path: path to csv file containing training dataset\n",
    "        valid_path: path to csv file containing validation dataset\n",
    "    Returns:\n",
    "        x's: np array of inputs\n",
    "        y's: np array of labels\n",
    "    \"\"\"\n",
    "    inputs = np.loadtxt(csv_path, delimiter=',')[:, 1:]\n",
    "    labels = np.loadtxt(csv_path, delimiter=',')[:, 0]\n",
    "\n",
    "    return inputs, labels\n",
    "\n",
    "bodyparts=['FOREARM','HAND','WRIST','SHOULDER','ELBOW','HUMERUS','FINGER']\n",
    "\n",
    "for bodypart in bodyparts:    \n",
    "    if __name__ == '__main__':\n",
    "        x_train, y_train = load_dataset('train_hist_' + bodypart + '.csv')\n",
    "        x_valid, y_valid = load_dataset('valid_hist_' + bodypart + '.csv')\n",
    "\n"
   ]
  },
  {
   "cell_type": "markdown",
   "metadata": {},
   "source": [
    "## Machine Learning Models  with different hyperparameters :\n",
    "The machine learning models used for analysing data are the KNN, RandomForest, SVC and Logistic Regression. These models are tuned with various hyperparameters. The best hyperparameter used for tuning the models are inserted in the model to generate a classification report.  "
   ]
  },
  {
   "cell_type": "code",
   "execution_count": 5,
   "metadata": {},
   "outputs": [],
   "source": [
    "funcs=[(LogisticRegression(random_state=10)),(KNeighborsClassifier()),(RandomForestClassifier(random_state=10)),(SVC(random_state=10))]\n",
    "params=[{'logisticregression__C': [0.001, 0.01, 0.1, 1, 10, 100],\n",
    "                  'logisticregression__solver': ['lbfgs', 'sag', 'saga', 'newton-cg']},\n",
    "        {'kneighborsclassifier__n_neighbors': np.arange(1,10)},\n",
    "         {'randomforestclassifier__max_depth': [None, 5, 3, 1],\n",
    "                  'randomforestclassifier__n_estimators': [10, 25, 50, 75, 100]},\n",
    "         {'svc__C': [0.001, 0.01, 0.1, 1, 10, 100],\n",
    "                  'svc__kernel': ['rbf', 'linear'],\n",
    "                  'svc__gamma': [0.001, 0.01, 0.1, 1]}]\n",
    "names=[\"logreg\",\"knn\",\"randforest\",\"svm\"]\n"
   ]
  },
  {
   "cell_type": "markdown",
   "metadata": {},
   "source": [
    "## Function to calculate best hyperparameters "
   ]
  },
  {
   "cell_type": "code",
   "execution_count": 6,
   "metadata": {},
   "outputs": [
    {
     "name": "stdout",
     "output_type": "stream",
     "text": [
      "best parameters:  {'logisticregression__C': 100, 'logisticregression__solver': 'saga'}\n",
      "best score:  0.689405684754522\n",
      "best parameters:  {'kneighborsclassifier__n_neighbors': 9}\n",
      "best score:  0.7012919896640827\n",
      "best parameters:  {'randomforestclassifier__max_depth': 5, 'randomforestclassifier__n_estimators': 100}\n",
      "best score:  0.7224806201550388\n",
      "best parameters:  {'svc__C': 10, 'svc__gamma': 1, 'svc__kernel': 'rbf'}\n",
      "best score:  0.7152454780361757\n"
     ]
    }
   ],
   "source": [
    "best_params={}\n",
    "\n",
    "for i in range(0,len(funcs)):\n",
    "    pipeline=make_pipeline(funcs[i])\n",
    "    hyperparameters=params[i]\n",
    "# For loop to select best set of features, hyperparameters\n",
    "    best_score = 0\n",
    "    best_param = str()\n",
    "# Loop\n",
    "    clf = GridSearchCV(pipeline, hyperparameters, cv=5) # Check hyperparameters\n",
    "    clf.fit(x_train, y_train)\n",
    "    if clf.best_score_ > best_score: # If better than others, save\n",
    "        best_score = clf.best_score_\n",
    "        best_param = clf.best_params_\n",
    "        best_params[names[i]]=best_param\n",
    "        \n",
    "    print('best parameters: ', best_param)\n",
    "    print('best score: ', best_score)"
   ]
  },
  {
   "cell_type": "code",
   "execution_count": 7,
   "metadata": {},
   "outputs": [],
   "source": [
    "best_params = {key:{key2.split('__')[1]:value2 for key2, value2 in value.items()} for key, value in best_params.items()}"
   ]
  },
  {
   "cell_type": "markdown",
   "metadata": {},
   "source": [
    "## Function to insert hyperparameters into models"
   ]
  },
  {
   "cell_type": "code",
   "execution_count": 8,
   "metadata": {},
   "outputs": [],
   "source": [
    "def logistic_classifier(x_train, y_train, x_valid):\n",
    "   \n",
    "    #log_reg=LogisticRegression(solver=\"sag\",C=100,random_state=10)\n",
    "    log_reg=LogisticRegression(**best_params[\"logreg\"])\n",
    "    log_reg.fit(x_train,y_train)\n",
    "    pred=log_reg.predict(x_valid)\n",
    "    return pred "
   ]
  },
  {
   "cell_type": "code",
   "execution_count": 9,
   "metadata": {},
   "outputs": [],
   "source": [
    "def svm_classifier(x_train, y_train, x_valid):\n",
    "   \n",
    "    #clf=svm.SVC(C=100,gamma=1,kernel=\"rbf\")\n",
    "    clf=svm.SVC(**best_params[\"svm\"])\n",
    "    clf.fit(x_train,y_train)\n",
    "    pred_svm=clf.predict(x_valid)\n",
    "    return pred_svm \n",
    "\n"
   ]
  },
  {
   "cell_type": "code",
   "execution_count": 10,
   "metadata": {},
   "outputs": [],
   "source": [
    "def knn_classifier(x_train, y_train, x_valid):\n",
    "\n",
    "    #neigh = KNeighborsClassifier(n_neighbors=9)\n",
    "    neigh=KNeighborsClassifier(**best_params[\"knn\"])\n",
    "    neigh.fit(x_train,y_train)\n",
    "    pred_knn=neigh.predict(x_valid)\n",
    "    return pred_knn \n",
    "\n"
   ]
  },
  {
   "cell_type": "code",
   "execution_count": 11,
   "metadata": {},
   "outputs": [],
   "source": [
    "\n",
    "def RandomForest(x_train, y_train, x_valid):\n",
    "    #clf = RandomForestClassifier(n_estimators=100,random_state=10,max_depth=None)\n",
    "    clf= RandomForestClassifier(**best_params[\"randforest\"])\n",
    "    clf.fit(x_train,y_train)\n",
    "    pred_clf=clf.predict(x_valid)\n",
    "    return pred_clf \n",
    "\n"
   ]
  },
  {
   "cell_type": "code",
   "execution_count": 12,
   "metadata": {},
   "outputs": [],
   "source": [
    "bodyparts=['FOREARM','WRIST','HUMERUS','HAND','ELBOW','SHOULDER','FINGER']"
   ]
  },
  {
   "cell_type": "markdown",
   "metadata": {},
   "source": [
    "## Classification report using tuned hyperparameters"
   ]
  },
  {
   "cell_type": "markdown",
   "metadata": {},
   "source": [
    "## Random Forest Model classification report"
   ]
  },
  {
   "cell_type": "code",
   "execution_count": 13,
   "metadata": {},
   "outputs": [
    {
     "name": "stdout",
     "output_type": "stream",
     "text": [
      "Here are the results for the Random Forest model with the validation set for FOREARM images.\n",
      "              precision    recall  f1-score   support\n",
      "\n",
      "         0.0       0.56      0.91      0.69        69\n",
      "         1.0       0.70      0.22      0.33        64\n",
      "\n",
      "    accuracy                           0.58       133\n",
      "   macro avg       0.63      0.57      0.51       133\n",
      "weighted avg       0.63      0.58      0.52       133\n",
      "\n",
      "Here are the results for the Random Forest model with the validation set for WRIST images.\n",
      "              precision    recall  f1-score   support\n",
      "\n",
      "         0.0       0.67      0.88      0.76       140\n",
      "         1.0       0.69      0.38      0.49        97\n",
      "\n",
      "    accuracy                           0.68       237\n",
      "   macro avg       0.68      0.63      0.63       237\n",
      "weighted avg       0.68      0.68      0.65       237\n",
      "\n",
      "Here are the results for the Random Forest model with the validation set for HUMERUS images.\n",
      "              precision    recall  f1-score   support\n",
      "\n",
      "         0.0       0.62      0.78      0.69        68\n",
      "         1.0       0.70      0.52      0.60        67\n",
      "\n",
      "    accuracy                           0.65       135\n",
      "   macro avg       0.66      0.65      0.65       135\n",
      "weighted avg       0.66      0.65      0.65       135\n",
      "\n",
      "Here are the results for the Random Forest model with the validation set for HAND images.\n",
      "              precision    recall  f1-score   support\n",
      "\n",
      "         0.0       0.63      1.00      0.77       101\n",
      "         1.0       1.00      0.11      0.19        66\n",
      "\n",
      "    accuracy                           0.65       167\n",
      "   macro avg       0.82      0.55      0.48       167\n",
      "weighted avg       0.78      0.65      0.54       167\n",
      "\n",
      "Here are the results for the Random Forest model with the validation set for ELBOW images.\n",
      "              precision    recall  f1-score   support\n",
      "\n",
      "         0.0       0.63      0.97      0.76        92\n",
      "         1.0       0.81      0.20      0.32        66\n",
      "\n",
      "    accuracy                           0.65       158\n",
      "   macro avg       0.72      0.58      0.54       158\n",
      "weighted avg       0.70      0.65      0.58       158\n",
      "\n",
      "Here are the results for the Random Forest model with the validation set for SHOULDER images.\n",
      "              precision    recall  f1-score   support\n",
      "\n",
      "         0.0       0.68      0.61      0.64        99\n",
      "         1.0       0.63      0.71      0.67        95\n",
      "\n",
      "    accuracy                           0.65       194\n",
      "   macro avg       0.66      0.66      0.65       194\n",
      "weighted avg       0.66      0.65      0.65       194\n",
      "\n",
      "Here are the results for the Random Forest model with the validation set for FINGER images.\n",
      "              precision    recall  f1-score   support\n",
      "\n",
      "         0.0       0.69      0.84      0.76        92\n",
      "         1.0       0.77      0.59      0.67        83\n",
      "\n",
      "    accuracy                           0.72       175\n",
      "   macro avg       0.73      0.71      0.71       175\n",
      "weighted avg       0.73      0.72      0.72       175\n",
      "\n"
     ]
    }
   ],
   "source": [
    "for bodypart in bodyparts:    \n",
    "        x_train, y_train = load_dataset('train_hist_' + bodypart + '.csv')\n",
    "        x_valid, y_valid = load_dataset('valid_hist_' + bodypart + '.csv')\n",
    "        y_pred = RandomForest(x_train, y_train, x_valid)\n",
    "        print(f'Here are the results for the Random Forest model with the validation set for {bodypart} images.')\n",
    "        print(classification_report(y_valid, y_pred))\n"
   ]
  },
  {
   "cell_type": "markdown",
   "metadata": {},
   "source": [
    "## KNN classification report"
   ]
  },
  {
   "cell_type": "code",
   "execution_count": 14,
   "metadata": {},
   "outputs": [
    {
     "name": "stdout",
     "output_type": "stream",
     "text": [
      "Here are the results for the knn_classifier validated FOREARM images.\n",
      "              precision    recall  f1-score   support\n",
      "\n",
      "         0.0       0.56      0.77      0.65        69\n",
      "         1.0       0.59      0.36      0.45        64\n",
      "\n",
      "    accuracy                           0.57       133\n",
      "   macro avg       0.58      0.56      0.55       133\n",
      "weighted avg       0.58      0.57      0.55       133\n",
      "\n",
      "Here are the results for the knn_classifier validated WRIST images.\n",
      "              precision    recall  f1-score   support\n",
      "\n",
      "         0.0       0.68      0.77      0.72       140\n",
      "         1.0       0.59      0.48      0.53        97\n",
      "\n",
      "    accuracy                           0.65       237\n",
      "   macro avg       0.64      0.63      0.63       237\n",
      "weighted avg       0.65      0.65      0.65       237\n",
      "\n",
      "Here are the results for the knn_classifier validated HUMERUS images.\n",
      "              precision    recall  f1-score   support\n",
      "\n",
      "         0.0       0.66      0.60      0.63        68\n",
      "         1.0       0.63      0.69      0.66        67\n",
      "\n",
      "    accuracy                           0.64       135\n",
      "   macro avg       0.65      0.64      0.64       135\n",
      "weighted avg       0.65      0.64      0.64       135\n",
      "\n",
      "Here are the results for the knn_classifier validated HAND images.\n",
      "              precision    recall  f1-score   support\n",
      "\n",
      "         0.0       0.63      0.94      0.75       101\n",
      "         1.0       0.62      0.15      0.24        66\n",
      "\n",
      "    accuracy                           0.63       167\n",
      "   macro avg       0.63      0.55      0.50       167\n",
      "weighted avg       0.63      0.63      0.55       167\n",
      "\n",
      "Here are the results for the knn_classifier validated ELBOW images.\n",
      "              precision    recall  f1-score   support\n",
      "\n",
      "         0.0       0.64      0.91      0.75        92\n",
      "         1.0       0.69      0.27      0.39        66\n",
      "\n",
      "    accuracy                           0.65       158\n",
      "   macro avg       0.66      0.59      0.57       158\n",
      "weighted avg       0.66      0.65      0.60       158\n",
      "\n",
      "Here are the results for the knn_classifier validated SHOULDER images.\n",
      "              precision    recall  f1-score   support\n",
      "\n",
      "         0.0       0.62      0.55      0.58        99\n",
      "         1.0       0.58      0.65      0.61        95\n",
      "\n",
      "    accuracy                           0.60       194\n",
      "   macro avg       0.60      0.60      0.60       194\n",
      "weighted avg       0.60      0.60      0.60       194\n",
      "\n",
      "Here are the results for the knn_classifier validated FINGER images.\n",
      "              precision    recall  f1-score   support\n",
      "\n",
      "         0.0       0.60      0.84      0.70        92\n",
      "         1.0       0.68      0.39      0.49        83\n",
      "\n",
      "    accuracy                           0.62       175\n",
      "   macro avg       0.64      0.61      0.60       175\n",
      "weighted avg       0.64      0.62      0.60       175\n",
      "\n"
     ]
    }
   ],
   "source": [
    "for bodypart in bodyparts:    \n",
    "        x_train, y_train = load_dataset('train_hist_' + bodypart + '.csv')\n",
    "        x_valid, y_valid = load_dataset('valid_hist_' + bodypart + '.csv')\n",
    "        y_pred = knn_classifier(x_train, y_train, x_valid)\n",
    "        print(f'Here are the results for the knn_classifier validated {bodypart} images.')\n",
    "        print(classification_report(y_valid, y_pred))\n"
   ]
  },
  {
   "cell_type": "markdown",
   "metadata": {},
   "source": [
    "## Logistic Regression classification report"
   ]
  },
  {
   "cell_type": "code",
   "execution_count": 15,
   "metadata": {},
   "outputs": [
    {
     "name": "stdout",
     "output_type": "stream",
     "text": [
      "Here are the results for the logistic_classifier validated FOREARM images.\n",
      "              precision    recall  f1-score   support\n",
      "\n",
      "         0.0       0.54      0.94      0.68        69\n",
      "         1.0       0.67      0.12      0.21        64\n",
      "\n",
      "    accuracy                           0.55       133\n",
      "   macro avg       0.60      0.53      0.45       133\n",
      "weighted avg       0.60      0.55      0.46       133\n",
      "\n",
      "Here are the results for the logistic_classifier validated WRIST images.\n",
      "              precision    recall  f1-score   support\n",
      "\n",
      "         0.0       0.59      0.83      0.69       140\n",
      "         1.0       0.43      0.19      0.26        97\n",
      "\n",
      "    accuracy                           0.57       237\n",
      "   macro avg       0.51      0.51      0.48       237\n",
      "weighted avg       0.53      0.57      0.52       237\n",
      "\n",
      "Here are the results for the logistic_classifier validated HUMERUS images.\n",
      "              precision    recall  f1-score   support\n",
      "\n",
      "         0.0       0.58      0.54      0.56        68\n",
      "         1.0       0.56      0.60      0.58        67\n",
      "\n",
      "    accuracy                           0.57       135\n",
      "   macro avg       0.57      0.57      0.57       135\n",
      "weighted avg       0.57      0.57      0.57       135\n",
      "\n",
      "Here are the results for the logistic_classifier validated HAND images.\n",
      "              precision    recall  f1-score   support\n",
      "\n",
      "         0.0       0.61      0.98      0.75       101\n",
      "         1.0       0.60      0.05      0.08        66\n",
      "\n",
      "    accuracy                           0.61       167\n",
      "   macro avg       0.61      0.51      0.42       167\n",
      "weighted avg       0.61      0.61      0.49       167\n",
      "\n",
      "Here are the results for the logistic_classifier validated ELBOW images.\n",
      "              precision    recall  f1-score   support\n",
      "\n",
      "         0.0       0.60      0.95      0.73        92\n",
      "         1.0       0.62      0.12      0.20        66\n",
      "\n",
      "    accuracy                           0.60       158\n",
      "   macro avg       0.61      0.53      0.47       158\n",
      "weighted avg       0.61      0.60      0.51       158\n",
      "\n",
      "Here are the results for the logistic_classifier validated SHOULDER images.\n",
      "              precision    recall  f1-score   support\n",
      "\n",
      "         0.0       0.53      0.45      0.49        99\n",
      "         1.0       0.50      0.58      0.54        95\n",
      "\n",
      "    accuracy                           0.52       194\n",
      "   macro avg       0.52      0.52      0.51       194\n",
      "weighted avg       0.52      0.52      0.51       194\n",
      "\n",
      "Here are the results for the logistic_classifier validated FINGER images.\n",
      "              precision    recall  f1-score   support\n",
      "\n",
      "         0.0       0.64      0.87      0.74        92\n",
      "         1.0       0.76      0.46      0.57        83\n",
      "\n",
      "    accuracy                           0.67       175\n",
      "   macro avg       0.70      0.66      0.65       175\n",
      "weighted avg       0.70      0.67      0.66       175\n",
      "\n"
     ]
    }
   ],
   "source": [
    "for bodypart in bodyparts:    \n",
    "        x_train, y_train = load_dataset('train_hist_' + bodypart + '.csv')\n",
    "        x_valid, y_valid = load_dataset('valid_hist_' + bodypart + '.csv')\n",
    "        y_pred = logistic_classifier(x_train, y_train, x_valid)\n",
    "        print(f'Here are the results for the logistic_classifier validated {bodypart} images.')\n",
    "        print(classification_report(y_valid, y_pred))\n",
    "\n",
    "\n"
   ]
  },
  {
   "cell_type": "markdown",
   "metadata": {},
   "source": [
    "## SVM classification report"
   ]
  },
  {
   "cell_type": "code",
   "execution_count": 16,
   "metadata": {},
   "outputs": [
    {
     "name": "stdout",
     "output_type": "stream",
     "text": [
      "Here are the results for the svm_classifier validated FOREARM images.\n",
      "              precision    recall  f1-score   support\n",
      "\n",
      "         0.0       0.54      0.96      0.69        69\n",
      "         1.0       0.73      0.12      0.21        64\n",
      "\n",
      "    accuracy                           0.56       133\n",
      "   macro avg       0.63      0.54      0.45       133\n",
      "weighted avg       0.63      0.56      0.46       133\n",
      "\n",
      "Here are the results for the svm_classifier validated WRIST images.\n",
      "              precision    recall  f1-score   support\n",
      "\n",
      "         0.0       0.64      0.84      0.72       140\n",
      "         1.0       0.57      0.32      0.41        97\n",
      "\n",
      "    accuracy                           0.62       237\n",
      "   macro avg       0.61      0.58      0.57       237\n",
      "weighted avg       0.61      0.62      0.60       237\n",
      "\n",
      "Here are the results for the svm_classifier validated HUMERUS images.\n",
      "              precision    recall  f1-score   support\n",
      "\n",
      "         0.0       0.65      0.66      0.66        68\n",
      "         1.0       0.65      0.64      0.65        67\n",
      "\n",
      "    accuracy                           0.65       135\n",
      "   macro avg       0.65      0.65      0.65       135\n",
      "weighted avg       0.65      0.65      0.65       135\n",
      "\n",
      "Here are the results for the svm_classifier validated HAND images.\n",
      "              precision    recall  f1-score   support\n",
      "\n",
      "         0.0       0.61      0.99      0.75       101\n",
      "         1.0       0.50      0.02      0.03        66\n",
      "\n",
      "    accuracy                           0.60       167\n",
      "   macro avg       0.55      0.50      0.39       167\n",
      "weighted avg       0.56      0.60      0.47       167\n",
      "\n",
      "Here are the results for the svm_classifier validated ELBOW images.\n",
      "              precision    recall  f1-score   support\n",
      "\n",
      "         0.0       0.60      0.95      0.73        92\n",
      "         1.0       0.62      0.12      0.20        66\n",
      "\n",
      "    accuracy                           0.60       158\n",
      "   macro avg       0.61      0.53      0.47       158\n",
      "weighted avg       0.61      0.60      0.51       158\n",
      "\n",
      "Here are the results for the svm_classifier validated SHOULDER images.\n",
      "              precision    recall  f1-score   support\n",
      "\n",
      "         0.0       0.58      0.49      0.53        99\n",
      "         1.0       0.54      0.62      0.58        95\n",
      "\n",
      "    accuracy                           0.56       194\n",
      "   macro avg       0.56      0.56      0.56       194\n",
      "weighted avg       0.56      0.56      0.56       194\n",
      "\n",
      "Here are the results for the svm_classifier validated FINGER images.\n",
      "              precision    recall  f1-score   support\n",
      "\n",
      "         0.0       0.65      0.90      0.75        92\n",
      "         1.0       0.81      0.46      0.58        83\n",
      "\n",
      "    accuracy                           0.69       175\n",
      "   macro avg       0.73      0.68      0.67       175\n",
      "weighted avg       0.72      0.69      0.67       175\n",
      "\n"
     ]
    }
   ],
   "source": [
    "for bodypart in bodyparts:    \n",
    "    if __name__ == '__main__':\n",
    "        x_train, y_train = load_dataset('train_hist_' + bodypart + '.csv')\n",
    "        x_valid, y_valid = load_dataset('valid_hist_' + bodypart + '.csv')\n",
    "        y_pred = svm_classifier(x_train, y_train, x_valid)\n",
    "    print(f'Here are the results for the svm_classifier validated {bodypart} images.')\n",
    "    print(classification_report(y_valid, y_pred))\n",
    "\n"
   ]
  },
  {
   "cell_type": "markdown",
   "metadata": {},
   "source": [
    "## Comparison of Models using Performance Metrics for the Finger Dataset"
   ]
  },
  {
   "cell_type": "code",
   "execution_count": 17,
   "metadata": {},
   "outputs": [
    {
     "name": "stdout",
     "output_type": "stream",
     "text": [
      "LogReg\n",
      "              precision    recall  f1-score   support\n",
      "\n",
      "    positive       0.56      0.91      0.69        92\n",
      "    negative       0.68      0.20      0.31        83\n",
      "\n",
      "    accuracy                           0.58       175\n",
      "   macro avg       0.62      0.56      0.50       175\n",
      "weighted avg       0.62      0.58      0.51       175\n",
      "\n",
      "RF\n",
      "              precision    recall  f1-score   support\n",
      "\n",
      "    positive       0.59      0.88      0.71        92\n",
      "    negative       0.71      0.33      0.45        83\n",
      "\n",
      "    accuracy                           0.62       175\n",
      "   macro avg       0.65      0.60      0.58       175\n",
      "weighted avg       0.65      0.62      0.58       175\n",
      "\n",
      "KNN\n",
      "              precision    recall  f1-score   support\n",
      "\n",
      "    positive       0.60      0.82      0.69        92\n",
      "    negative       0.65      0.39      0.48        83\n",
      "\n",
      "    accuracy                           0.61       175\n",
      "   macro avg       0.62      0.60      0.59       175\n",
      "weighted avg       0.62      0.61      0.59       175\n",
      "\n",
      "SVM\n",
      "              precision    recall  f1-score   support\n",
      "\n",
      "    positive       0.53      1.00      0.69        92\n",
      "    negative       0.00      0.00      0.00        83\n",
      "\n",
      "    accuracy                           0.53       175\n",
      "   macro avg       0.26      0.50      0.34       175\n",
      "weighted avg       0.28      0.53      0.36       175\n",
      "\n"
     ]
    }
   ],
   "source": [
    "from sklearn.linear_model import LogisticRegression\n",
    "from sklearn.neighbors import KNeighborsClassifier\n",
    "from sklearn.svm import SVC\n",
    "from sklearn.ensemble import RandomForestClassifier\n",
    "\n",
    "\n",
    "from sklearn import model_selection\n",
    "from sklearn.utils import class_weight\n",
    "from sklearn.metrics import classification_report\n",
    "from sklearn.metrics import confusion_matrix\n",
    "import numpy as np\n",
    "import pandas as pd\n",
    "def run_exps(X_train: pd.DataFrame , y_train: pd.DataFrame, X_test: pd.DataFrame, y_test: pd.DataFrame) -> pd.DataFrame:\n",
    "    '''\n",
    "    Lightweight script to test many models and find winners\n",
    ":param X_train: training split\n",
    "    :param y_train: training target vector\n",
    "    :param X_test: test split\n",
    "    :param y_test: test target vector\n",
    "    :return: DataFrame of predictions\n",
    "    '''\n",
    "    \n",
    "dfs = []\n",
    "models = [\n",
    "          ('LogReg', LogisticRegression()), \n",
    "          ('RF', RandomForestClassifier()),\n",
    "          ('KNN', KNeighborsClassifier()),\n",
    "          ('SVM', SVC())]\n",
    "results = []\n",
    "names = []\n",
    "scoring = ['accuracy', 'precision', 'recall', 'f1', 'roc_auc']\n",
    "target_names = ['positive', 'negative']\n",
    "for name, model in models:\n",
    "    kfold = model_selection.KFold(n_splits=5, shuffle=True, random_state=10)\n",
    "    cv_results = model_selection.cross_validate(model, x_train, y_train, cv=kfold, scoring=scoring)\n",
    "    clf = model.fit(x_train, y_train)\n",
    "    y_pred = clf.predict(x_valid)\n",
    "    print(name)\n",
    "    print(classification_report(y_valid, y_pred, target_names=target_names))\n",
    "    results.append(cv_results)\n",
    "    names.append(name)\n",
    "    this_df = pd.DataFrame(cv_results)\n",
    "    this_df['model'] = name\n",
    "    dfs.append(this_df)\n",
    "    final = pd.concat(dfs, ignore_index=True)\n",
    "\n"
   ]
  },
  {
   "cell_type": "markdown",
   "metadata": {},
   "source": [
    "## Random Forest gives the best F1 score for abnormal body part for finger dataset."
   ]
  },
  {
   "cell_type": "code",
   "execution_count": null,
   "metadata": {},
   "outputs": [],
   "source": []
  }
 ],
 "metadata": {
  "kernelspec": {
   "display_name": "Python 3",
   "language": "python",
   "name": "python3"
  },
  "language_info": {
   "codemirror_mode": {
    "name": "ipython",
    "version": 3
   },
   "file_extension": ".py",
   "mimetype": "text/x-python",
   "name": "python",
   "nbconvert_exporter": "python",
   "pygments_lexer": "ipython3",
   "version": "3.7.4"
  }
 },
 "nbformat": 4,
 "nbformat_minor": 2
}
